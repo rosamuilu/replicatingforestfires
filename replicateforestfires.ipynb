{
 "cells": [
  {
   "cell_type": "code",
   "execution_count": 92,
   "id": "6d6d4790",
   "metadata": {},
   "outputs": [],
   "source": [
    "# Model design\n",
    "import agentpy as ap\n",
    "import random\n",
    "\n",
    "# Visualization\n",
    "import matplotlib.pyplot as plt\n",
    "import seaborn as sns\n",
    "import IPython\n"
   ]
  },
  {
   "cell_type": "code",
   "execution_count": 93,
   "id": "d001a507",
   "metadata": {},
   "outputs": [],
   "source": [
    "# If agentpy is not installed, uncomment this\n",
    "# ! pip install agentpy"
   ]
  },
  {
   "cell_type": "code",
   "execution_count": 94,
   "id": "24984331",
   "metadata": {},
   "outputs": [
    {
     "data": {
      "text/plain": [
       "\"\\nRules of the system:\\n1. A burning tree becomes an empty site\\n2. A green tree becomes burning if at least one of its neighbours is burning\\n3. At an empty site, a tree grows with the probability p\\n4. A tree without a burning neighbour becomes a burning tree at any time step with the probability f ('lightning')\\n\\nModifications needed:\\n1. Do not automatically start the burning\\n2. Add a condition where a tree starts growing\\n3. Adjust probabilities\\n4. Do not stop the animation\\nHello :)\\n\""
      ]
     },
     "execution_count": 94,
     "metadata": {},
     "output_type": "execute_result"
    }
   ],
   "source": [
    "\n",
    "'''\n",
    "Rules of the system:\n",
    "1. A burning tree becomes an empty site\n",
    "2. A green tree becomes burning if at least one of its neighbours is burning\n",
    "3. At an empty site, a tree grows with the probability p\n",
    "4. A tree without a burning neighbour becomes a burning tree at any time step with the probability f ('lightning')\n",
    "\n",
    "Modifications needed:\n",
    "1. Do not automatically start the burning\n",
    "2. Add a condition where a tree starts growing\n",
    "3. Adjust probabilities\n",
    "4. Do not stop the animation\n",
    "Hello :)\n",
    "'''"
   ]
  },
  {
   "cell_type": "code",
   "execution_count": 95,
   "id": "d73a1c7d",
   "metadata": {},
   "outputs": [],
   "source": [
    "class ForestModel(ap.Model):\n",
    "\n",
    "    def setup(self):\n",
    "\n",
    "        # Create agents (trees)\n",
    "        n_trees = int(self.p['Tree density'] * (self.p.size**2))\n",
    "        trees = self.agents = ap.AgentList(self, n_trees)\n",
    "\n",
    "        # Create grid (forest)\n",
    "        self.forest = ap.Grid(self, [self.p.size]*2, track_empty=True)\n",
    "        self.forest.add_agents(trees, random=True, empty=True)\n",
    "\n",
    "        # Initiate a dynamic variable for all trees\n",
    "        # Condition 0: Alive, 1: Burning, 2: Empty\n",
    "        self.agents.condition = 0\n",
    "\n",
    "        # Probability of lightning\n",
    "        self.f = self.p['probability of lightning']\n",
    "\n",
    "        # Probability of tree growth\n",
    "        self.new = self.p['probability of new tree']\n",
    "\n",
    "        # Start a fire from the left side of the grid\n",
    "        # unfortunate_trees = self.forest.agents[0:self.p.size, 0:2]\n",
    "        # unfortunate_trees.condition = 1\n",
    "\n",
    "    def step(self):\n",
    "\n",
    "        # Select burning trees\n",
    "        burning_trees = self.agents.select(self.agents.condition == 1)\n",
    "\n",
    "        # Select empty lots\n",
    "        no_trees = self.agents.select(self.agents.condition == 2)\n",
    "\n",
    "        # Select healthy trees\n",
    "        healthy_trees = self.agents.select(self.agents.condition == 0)\n",
    "\n",
    "        # Add lighting\n",
    "        for tree in healthy_trees:\n",
    "            if random.random() < self.f:\n",
    "                tree.condition = 1\n",
    "\n",
    "        # Spread fire\n",
    "        for tree in burning_trees:\n",
    "            for neighbor in self.forest.neighbors(tree):\n",
    "                if neighbor.condition == 0:\n",
    "                    neighbor.condition = 1 # Neighbor starts burning\n",
    "            tree.condition = 2 # Tree burns out\n",
    "        \n",
    "        for tree in no_trees:\n",
    "            if random.random() < self.new:\n",
    "                tree.condition = 0\n",
    "\n",
    "        # Stop simulation if no fire is left\n",
    "       # if len(burning_trees) == 0:\n",
    "        #    self.stop()\n",
    "\n",
    "    def end(self):\n",
    "\n",
    "        # Document a measure at the end of the simulation\n",
    "        burned_trees = len(self.agents.select(self.agents.condition == 2))\n",
    "        self.report('Percentage of burned trees',\n",
    "                    burned_trees / len(self.agents))"
   ]
  },
  {
   "cell_type": "code",
   "execution_count": 96,
   "id": "d294c740",
   "metadata": {},
   "outputs": [],
   "source": [
    "# Define parameters\n",
    "\n",
    "parameters = {\n",
    "    'Tree density': 0.5, # Percentage of grid covered by trees\n",
    "    'size': 50, # Height and length of the grid\n",
    "    'steps': 100,\n",
    "    'probability of lightning': 0.01,\n",
    "    'probability of new tree': 0.05\n",
    "}"
   ]
  },
  {
   "cell_type": "code",
   "execution_count": null,
   "id": "6b11e51c",
   "metadata": {},
   "outputs": [],
   "source": [
    "# Create single-run animation with custom colors\n",
    "\n",
    "def animation_plot(model, ax):\n",
    "    attr_grid = model.forest.attr_grid('condition')\n",
    "    color_dict = {0:'#7FC97F', 1:'#d62c2c', 2:'#e5e5e5', None:'#d5e5d5'}\n",
    "    ap.gridplot(attr_grid, ax=ax, color_dict=color_dict, convert=True)\n",
    "    ax.set_title(f\"Simulation of a forest fire\\n\"\n",
    "                 f\"Time-step: {model.t}, Trees left: \"\n",
    "                 f\"{len(model.agents.select(model.agents.condition == 0))}\")\n",
    "\n",
    "fig, ax = plt.subplots()\n",
    "model = ForestModel(parameters)\n",
    "animation = ap.animate(model, fig, ax, animation_plot)\n",
    "IPython.display.HTML(animation.to_jshtml(fps=15))"
   ]
  }
 ],
 "metadata": {
  "kernelspec": {
   "display_name": "csp",
   "language": "python",
   "name": "python3"
  },
  "language_info": {
   "codemirror_mode": {
    "name": "ipython",
    "version": 3
   },
   "file_extension": ".py",
   "mimetype": "text/x-python",
   "name": "python",
   "nbconvert_exporter": "python",
   "pygments_lexer": "ipython3",
   "version": "3.11.13"
  }
 },
 "nbformat": 4,
 "nbformat_minor": 5
}
